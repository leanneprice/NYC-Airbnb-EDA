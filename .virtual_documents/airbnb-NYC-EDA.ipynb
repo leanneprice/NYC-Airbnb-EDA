








from datetime import datetime
import pandas as pd
import numpy as np
from matplotlib import pyplot as plt
import seaborn as sns
import folium


listings = pd.read_csv('data/airbnb_nyc.csv')






listings.shape


listings.info()











# Check NaN values in each column.
for column in listings.columns:
    print(column, listings[column].isnull().sum())





# There are no rows with all columns as NaN
listings = listings.dropna(how="all") # 30,179 rows x 81 columns

# There are no duplicate rows
listings = listings.drop_duplicates() # 30,179 rows x 81 column


# Dataframe for analysis of the host features of interest
host_data = listings[['price', 'host_since', 'host_response_time', 'host_response_rate', 'host_is_superhost']] # 30179 rows x 5 columns

# Remove a row if NaN value in any column
host_data = host_data.dropna() # 17082 rows x 5 columns


# Dataframe for analysis of the review feature of interest
review_data = listings[['price','review_scores_rating']] # 30179 rows x 2 columns

# Remove a row if NaN value in any column
review_data = review_data.dropna() # 21094 rows x 2 columns


# Dataframe for geo visualisation
geovis_data = listings[['price', 'latitude', 'longitude']] # 30179 rows x 3 columns
geovis_data = geovis_data.dropna() # 30179 rows x 3 columns








# consider changing style
sns.histplot(data=listings, x="price", binwidth=20)
plt.title("Price Distribution of Airbnbs NYC Nov-21 to Nov-22")
plt.xlabel("Daily Price [$]")
plt.ylabel("Count of Airbnbs")


listings["price"].describe()








# Time Square is the starting position
# Add key if time
from folium.plugins import HeatMap
folium_hmap = folium.Map(location=[40.7580, -73.9855], 
                         zoom_start=11, 
                         tiles="OpenStreetMap")
folium_hmap.add_child(
    HeatMap(
        geovis_data[['latitude','longitude','price']],
        min_opacity=0.2,
        radius = 8,
        blur = 6
    )
)
# add for popular tourist destinations
# Central Park
folium.Marker(
   location=[40.7826, -73.965],
   popup="Central Park",
).add_to(folium_hmap)
# Time Square
folium.Marker(
   location=[40.7580, -73.9855],
   popup="Time Square",
).add_to(folium_hmap)
# The Metropolitan Museum of Art
folium.Marker(
   location=[40.7794, -73.9632],
   popup="Metropolitan Museum of Art",
).add_to(folium_hmap)
# Brooklyn Bridge
folium.Marker(
   location=[40.7061, -73.9969],
   popup="Brooklyn Bridge",
).add_to(folium_hmap)
# Statue of Liberty
folium.Marker(
   location=[40.6892, -74.0445],
   popup="Statue of Liberty",
).add_to(folium_hmap)
# Finanicial District
folium.Marker(
   location=[40.7077, -74.0083],
   popup="Finanicial District",
).add_to(folium_hmap)




folium_hmap








sns.barplot(data=listings, x="room_type", y="price")
plt.title("Mean Price of Room Type")
plt.xlabel("Room Type")
plt.ylabel("Mean Daily Price [$]")


listings.groupby("room_type").agg({"price":"describe"})





# check counts per number of bedrooms to determine the number of bedrooms plotted
# Six bedroooms only has 14 counts, so plot <6 bedrooms
listings["bedrooms"].value_counts()


# Similar exercise to above
# nine beds only has 15 counts, so plot < 9 bedrooms
listings["beds"].value_counts()


fig, axes = plt.subplots(
    nrows=1, 
    ncols=2,
    figsize=(20,6)
)
fig.suptitle("Box Plots of Price [$] vs. Bedrooms and Beds")

sns.boxplot(
    data=listings[listings["bedrooms"] <= 5],
    x = "bedrooms",
    y = "price",
    ax = axes[0]
)

sns.boxplot(
    data=listings[listings["beds"] <= 8],
    x = "beds",
    y = "price",
    ax = axes[1]
)
axes[0].set_xlabel("Number of Bedrooms")
axes[1].set_xlabel("Number of Beds")

axes[0].set_ylabel("Price [$]")
axes[1].set_ylabel("Price [$]")

# subset data so < 11 bedrooms and < 13 beds


# change to <=5 bedrooms
listings.groupby("bedrooms").agg({"price": "median"})


# change to <=8 beds
listings.groupby("beds").agg({"price": "median"})


# Obtaining the counts per bathrooms to determine the number of bathrooms to plot
# 0.5 bathrooms has appeared in the incorrect location in the value counts table,
# but is located correctly on the boxplot
# plot < 3.5 bathrooms
listings["bathrooms"].value_counts()


# label 
sns.boxplot(data=listings[listings["bathrooms"] <= 3],
    x = "bathrooms",
    y = "price")


# label
sns.lineplot(data=listings, x="accommodates", y="price")


# ideally calculate correlation for <=5 bedrooms etc. 
listings[["price","bedrooms", "beds", "bathrooms", "accommodates"]].corr()








sns.lineplot(data=listings, x="review_scores_rating", y="price")





# add titles and labels
sns.boxplot(
    data=listings,
    x="instant_bookable",
    y = "price"
)





# label
sns.lineplot(data=listings, x="minimum_nights", y="price")





# Add labels and resize text
sns.barplot(data=listings, x="cancellation_policy", y="price")





# labels
fig, axes = plt.subplots(
    nrows=2, 
    ncols=3,
    figsize=(20,6)
)
fig.suptitle("Price [$] vs. Property Features")

sns.boxplot(
    data=listings,
    x="check_in_24h",
    y = "price",
    ax = axes[0, 0]
)
sns.boxplot(
    data=listings,
    x="air_conditioning",
    y = "price",
    ax = axes[0, 1]
)
sns.boxplot(
    data=listings,
    x="high_end_electronics",
    y = "price",
    ax = axes[0, 2]
)
sns.boxplot(
    data=listings,
    x="bbq",
    y = "price",
    ax = axes[1, 0]
)
sns.boxplot(
    data=listings,
    x="balcony",
    y = "price",
    ax = axes[1, 1]
)
sns.boxplot(
    data=listings,
    x="nature_and_views",
    y = "price",
    ax = axes[1, 2]
)


# labels
fig, axes = plt.subplots(
    nrows=2, 
    ncols=3,
    figsize=(20,6)
)
fig.suptitle("Price [$] vs. Property Features")

sns.boxplot(
    data=listings,
    x="bed_linen",
    y = "price",
    ax = axes[0, 0]
)
sns.boxplot(
    data=listings,
    x="breakfast",
    y = "price",
    ax = axes[0, 1]
)
sns.boxplot(
    data=listings,
    x="tv",
    y = "price",
    ax = axes[0, 2]
)
sns.boxplot(
    data=listings,
    x="coffee_machine",
    y = "price",
    ax = axes[1, 0]
)
sns.boxplot(
    data=listings,
    x="cooking_basics",
    y = "price",
    ax = axes[1, 1]
)
sns.boxplot(
    data=listings,
    x="white_goods",
    y = "price",
    ax = axes[1, 2]
)


# labels
fig, axes = plt.subplots(
    nrows=2, 
    ncols=3,
    figsize=(20,6)
)
fig.suptitle("Price [$] vs. Property Features")

sns.boxplot(
    data=listings,
    x="elevator",
    y = "price",
    ax = axes[0, 0]
)
sns.boxplot(
    data=listings,
    x="gym",
    y = "price",
    ax = axes[0, 1]
)
sns.boxplot(
    data=listings,
    x="child_friendly",
    y = "price",
    ax = axes[0, 2]
)
sns.boxplot(
    data=listings,
    x="parking",
    y = "price",
    ax = axes[1, 0]
)
sns.boxplot(
    data=listings,
    x="outdoor_space",
    y = "price",
    ax = axes[1, 1]
)
sns.boxplot(
    data=listings,
    x="host_greeting",
    y = "price",
    ax = axes[1, 2]
)


# labels
fig, axes = plt.subplots(
    nrows=2, 
    ncols=3,
    figsize=(20,6)
)
fig.suptitle("Price [$] vs. Property Features")

sns.boxplot(
    data=listings,
    x="hot_tub_sauna_or_pool",
    y = "price",
    ax = axes[0, 0]
)
sns.boxplot(
    data=listings,
    x="internet",
    y = "price",
    ax = axes[0, 1]
)
sns.boxplot(
    data=listings,
    x="secure",
    y = "price",
    ax = axes[0, 2]
)
sns.boxplot(
    data=listings,
    x="long_term_stays",
    y = "price",
    ax = axes[1, 0]
)
sns.boxplot(
    data=listings,
    x="pets_allowed",
    y = "price",
    ax = axes[1, 1]
)
sns.boxplot(
    data=listings,
    x="private_entrance",
    y = "price",
    ax = axes[1, 2]
)


# labels
fig, axes = plt.subplots(
    nrows=2, 
    ncols=2,
    figsize=(10,4)
)
fig.suptitle("Price [$] vs. Property Features")

sns.boxplot(
    data=listings,
    x="self_check_in",
    y = "price",
    ax = axes[0, 0]
)
sns.boxplot(
    data=listings,
    x="smoking_allowed",
    y = "price",
    ax = axes[0, 1]
)
sns.boxplot(
    data=listings,
    x="accessible",
    y = "price",
    ax = axes[1, 0]
)
sns.boxplot(
    data=listings,
    x="event_suitable",
    y = "price",
    ax = axes[1, 1]
)






fig, axes = plt.subplots(
    nrows=1, 
    ncols=2,
    figsize=(20,6)
)
fig.suptitle("Price [$] vs. Plots of Host Features")

# add host since with date formatted if time
# add host_response_rate line plot with above so nice grid format
sns.boxplot(
    data=listings,
    x = "host_response_time", # reduce x label text size
    y = "price",
    ax = axes[0]
)

sns.boxplot(
    data=listings,
    x = "host_is_superhost",
    y = "price",
    ax = axes[1]
)

axes[0].set_xlabel("Host Response Time")
axes[1].set_xlabel("Superhost? [0.0 = No, 1.0 = Yes]")

axes[0].set_ylabel("Price [$]")
axes[1].set_ylabel("Price [$]")




